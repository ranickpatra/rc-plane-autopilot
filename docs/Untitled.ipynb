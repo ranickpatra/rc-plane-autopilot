{
 "cells": [
  {
   "cell_type": "code",
   "execution_count": 1,
   "id": "74e4d83e-45d9-46ae-8da6-3189daea48d8",
   "metadata": {},
   "outputs": [],
   "source": [
    "import numpy as np"
   ]
  },
  {
   "cell_type": "code",
   "execution_count": 3,
   "id": "4efffb43-4069-4d77-b634-782d0e9060ee",
   "metadata": {},
   "outputs": [
    {
     "data": {
      "text/plain": [
       "array([  1.,   4.,   9.,  16.,  25.,  36.,  49.,  64.,  81., 100.])"
      ]
     },
     "execution_count": 3,
     "metadata": {},
     "output_type": "execute_result"
    }
   ],
   "source": [
    "x = np.linspace(1, 10, 10)"
   ]
  },
  {
   "cell_type": "markdown",
   "id": "1564d50e-edc5-4e1f-a1ed-2da277177970",
   "metadata": {},
   "source": [
    "$$\\sum_{n=2}^{10} n^2$$\n",
    "\n",
    "$$\\sum_{n=1}^{10} n^2$$"
   ]
  },
  {
   "cell_type": "code",
   "execution_count": null,
   "id": "f8d2ccea-13c7-4bd1-b053-35a6e8183108",
   "metadata": {},
   "outputs": [],
   "source": []
  }
 ],
 "metadata": {
  "kernelspec": {
   "display_name": "Python 3 (ipykernel)",
   "language": "python",
   "name": "python3"
  },
  "language_info": {
   "codemirror_mode": {
    "name": "ipython",
    "version": 3
   },
   "file_extension": ".py",
   "mimetype": "text/x-python",
   "name": "python",
   "nbconvert_exporter": "python",
   "pygments_lexer": "ipython3",
   "version": "3.9.15"
  }
 },
 "nbformat": 4,
 "nbformat_minor": 5
}
