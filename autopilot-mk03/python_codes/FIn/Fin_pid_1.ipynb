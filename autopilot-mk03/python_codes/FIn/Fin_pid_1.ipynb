{
 "cells": [
  {
   "cell_type": "code",
   "execution_count": 1,
   "id": "40f9bf20-7dbf-42fd-b167-fa077819ba49",
   "metadata": {},
   "outputs": [],
   "source": [
    "%matplotlib inline\n",
    "from IPython.display import Markdown, display\n",
    "import numpy as np\n",
    "import pandas as pd\n",
    "import matplotlib.pyplot as plt\n",
    "from tqdm import tqdm\n",
    "import math"
   ]
  },
  {
   "cell_type": "code",
   "execution_count": 10,
   "id": "684d567f-9404-4dec-bfd2-5b3031fab78e",
   "metadata": {},
   "outputs": [],
   "source": [
    "density_of_air = 1.293\n",
    "area = 3.334e-3\n",
    "max_air_speed = 20"
   ]
  },
  {
   "cell_type": "code",
   "execution_count": 20,
   "id": "a24f9796-a148-48df-9370-3b599f94c759",
   "metadata": {},
   "outputs": [],
   "source": [
    "quadratic_equation = np.array([ 0, 0.03789803, -0.00061863])\n",
    "def get_poly(x):\n",
    "    x2 = quadratic_equation[2] * (x**2)\n",
    "    x1 = quadratic_equation[1] * x\n",
    "    x0 = quadratic_equation[0] * x\n",
    "    return np.array([x0, x1, x2])\n",
    "\n",
    "def solve_quadratic(a, b, c, y):\n",
    "    c_prime = c - y\n",
    "    discriminant = b**2 - 4*a*c_prime\n",
    "\n",
    "    if discriminant > 0:\n",
    "        x1 = (-b + math.sqrt(discriminant)) / (2 * a)\n",
    "        x2 = (-b - math.sqrt(discriminant)) / (2 * a)\n",
    "        return (x1, x2)\n",
    "    elif discriminant == 0:\n",
    "        x = -b / (2 * a)\n",
    "        return (x,)\n",
    "    else:\n",
    "        # No real roots\n",
    "        return ()"
   ]
  },
  {
   "cell_type": "code",
   "execution_count": 38,
   "id": "8ac9a9e3-3e71-4572-b517-587711aec669",
   "metadata": {},
   "outputs": [
    {
     "data": {
      "text/plain": [
       "array([  0.,   8.,  16.,  24.,  32.,  40.,  48.,  56.,  64.,  72.,  80.,\n",
       "        88.,  96., 104., 112., 120., 128., 136., 144., 152., 160., 168.,\n",
       "       176., 184., 192., 200., 208., 216., 224., 232., 240.])"
      ]
     },
     "execution_count": 38,
     "metadata": {},
     "output_type": "execute_result"
    }
   ],
   "source": [
    "factor = 0.001\n",
    "prop_speed = 0.5\n",
    "err_angles = np.linspace(0, 30, 31)\n",
    "kp = 8\n",
    "pid = err_angles * kp\n",
    "pid"
   ]
  },
  {
   "cell_type": "code",
   "execution_count": 40,
   "id": "f3b21fd1-636d-4ba3-b673-5631790d533c",
   "metadata": {},
   "outputs": [
    {
     "name": "stdout",
     "output_type": "stream",
     "text": [
      "-0.0\n",
      "0.9955308926705294\n",
      "2.0256880720238795\n",
      "3.0943574698327327\n",
      "4.206211266870977\n",
      "5.366950456578521\n",
      "6.5836530453760025\n",
      "7.865290231026548\n",
      "9.223521693276322\n",
      "10.673980134727712\n",
      "12.238472504365681\n",
      "13.949052276435218\n",
      "15.856375164351833\n",
      "18.04960596402726\n",
      "20.716715142046553\n",
      "24.442802433930307\n",
      "30\n",
      "30\n",
      "30\n",
      "30\n",
      "30\n",
      "30\n",
      "30\n",
      "30\n",
      "30\n",
      "30\n",
      "30\n",
      "30\n",
      "30\n",
      "30\n",
      "30\n"
     ]
    }
   ],
   "source": [
    "coef_of_lift = 2*pid/(density_of_air*area*(max_air_speed**2))/(prop_speed**2)*factor\n",
    "\n",
    "for cl in coef_of_lift:\n",
    "    roots = solve_quadratic(quadratic_equation[2], quadratic_equation[1], quadratic_equation[0], cl)\n",
    "    if len(roots) == 2:\n",
    "        if roots[0] >= 0 and roots[0] <= 30 and roots[1] >= 0 and roots[1] <= 30:\n",
    "            angle = min(roots[0], min[roots[1]])\n",
    "        elif roots[0] >= 0 and roots[0] <= 30:\n",
    "            angle = roots[0]\n",
    "        elif roots[1] >= 0 and roots[1] <= 30:\n",
    "            angle = roots[1]\n",
    "        else:\n",
    "            # need to work\n",
    "            angle = 0\n",
    "    elif len(roots) == 1:\n",
    "        if roots[0] < 0:\n",
    "            angle = 0\n",
    "        elif roots[0] > 30:\n",
    "            angle = 30\n",
    "    else:\n",
    "        angle = 30\n",
    "\n",
    "    print(angle)"
   ]
  },
  {
   "cell_type": "code",
   "execution_count": null,
   "id": "3cd5e9f3-f163-4be3-90be-97247360bf96",
   "metadata": {},
   "outputs": [],
   "source": []
  }
 ],
 "metadata": {
  "kernelspec": {
   "display_name": "Python 3 (ipykernel)",
   "language": "python",
   "name": "python3"
  },
  "language_info": {
   "codemirror_mode": {
    "name": "ipython",
    "version": 3
   },
   "file_extension": ".py",
   "mimetype": "text/x-python",
   "name": "python",
   "nbconvert_exporter": "python",
   "pygments_lexer": "ipython3",
   "version": "3.10.13"
  }
 },
 "nbformat": 4,
 "nbformat_minor": 5
}
