{
 "cells": [
  {
   "cell_type": "code",
   "execution_count": 1,
   "id": "40f9bf20-7dbf-42fd-b167-fa077819ba49",
   "metadata": {},
   "outputs": [],
   "source": [
    "%matplotlib inline\n",
    "from IPython.display import Markdown, display\n",
    "import numpy as np\n",
    "import pandas as pd\n",
    "import matplotlib.pyplot as plt\n",
    "from tqdm import tqdm\n",
    "import math"
   ]
  },
  {
   "cell_type": "code",
   "execution_count": 2,
   "id": "684d567f-9404-4dec-bfd2-5b3031fab78e",
   "metadata": {},
   "outputs": [],
   "source": [
    "density_of_air = 1.293\n",
    "area_of_prop_blade = 3.334e-3\n",
    "propeller_slip = 0.2\n",
    "propeller_pitch = 10.67 / 100\n",
    "# max_air_speed = 20\n",
    "\n",
    "delta_t = 0.01"
   ]
  },
  {
   "cell_type": "code",
   "execution_count": 3,
   "id": "a24f9796-a148-48df-9370-3b599f94c759",
   "metadata": {},
   "outputs": [],
   "source": [
    "quadratic_equation = np.array([ 0, 0.03789803, -0.00061863])\n",
    "def get_poly(x):\n",
    "    x2 = quadratic_equation[2] * (x**2)\n",
    "    x1 = quadratic_equation[1] * x\n",
    "    x0 = quadratic_equation[0] * x\n",
    "    return np.array([x0, x1, x2])\n",
    "\n",
    "def solve_quadratic(a, b, c, y):\n",
    "    c_prime = c - y\n",
    "    discriminant = b**2 - 4*a*c_prime\n",
    "\n",
    "    if discriminant > 0:\n",
    "        x1 = (-b + math.sqrt(discriminant)) / (2 * a)\n",
    "        x2 = (-b - math.sqrt(discriminant)) / (2 * a)\n",
    "        return (x1, x2)\n",
    "    elif discriminant == 0:\n",
    "        x = -b / (2 * a)\n",
    "        return (x,)\n",
    "    else:\n",
    "        # No real roots\n",
    "        return ()\n",
    "\n",
    "def get_wind_speed_from_rps(rps):\n",
    "    return rps * propeller_pitch * (1-propeller_slip)\n",
    "\n",
    "def get_coeff_of_lift(force, wind_speed):\n",
    "    return 2 * force / (density_of_air * area_of_prop_blade * (wind_speed**2))\n",
    "\n",
    "def get_fin_angle_from_coef_of_lift(cl):\n",
    "    max_angle = 30\n",
    "    roots = solve_quadratic(quadratic_equation[2], quadratic_equation[1], quadratic_equation[0], cl)\n",
    "    if len(roots) == 2:\n",
    "        if roots[0] >= 0 and roots[0] <= max_angle and roots[1] >= 0 and roots[1] <= max_angle:\n",
    "            angle = min(roots[0], min[roots[1]])\n",
    "        elif roots[0] >= 0 and roots[0] <= max_angle:\n",
    "            angle = roots[0]\n",
    "        elif roots[1] >= 0 and roots[1] <= max_angle:\n",
    "            angle = roots[1]\n",
    "        else:\n",
    "            # need to work\n",
    "            angle = 0\n",
    "    elif len(roots) == 1:\n",
    "        if roots[0] < 0:\n",
    "            angle = 0\n",
    "        elif roots[0] > max_angle:\n",
    "            angle = max_angle\n",
    "    else:\n",
    "        angle = max_angle\n",
    "\n",
    "    return angle\n",
    "\n",
    "def get_fin_angle_from_force(force, rps):\n",
    "    wind_speed = get_wind_speed_from_rps(rps)\n",
    "    cl = get_coeff_of_lift(abs(force), wind_speed)\n",
    "    fin_angle = get_fin_angle_from_coef_of_lift(cl)\n",
    "    return fin_angle * (force / abs(force))"
   ]
  },
  {
   "cell_type": "code",
   "execution_count": 4,
   "id": "8ac9a9e3-3e71-4572-b517-587711aec669",
   "metadata": {},
   "outputs": [
    {
     "data": {
      "text/plain": [
       "np.float64(-20.53679297557252)"
      ]
     },
     "execution_count": 4,
     "metadata": {},
     "output_type": "execute_result"
    }
   ],
   "source": [
    "factor = 0.0017696\n",
    "# factor = 0.005\n",
    "prop_speed = 140\n",
    "target_angle = 0\n",
    "current_angle = 30\n",
    "\n",
    "\n",
    "kp = 6\n",
    "ki = 0\n",
    "kd = 0\n",
    "\n",
    "pid_i = 0\n",
    "prev_err = 0\n",
    "\n",
    "err = target_angle - current_angle\n",
    "pid_p = kp * err\n",
    "if abs(err) < 5:\n",
    "    pid_i += ki * err\n",
    "\n",
    "pid_d = kd * (err - prev_err) / delta_t\n",
    "prev_err = err\n",
    "\n",
    "sum = pid_p + pid_i + pid_d\n",
    "\n",
    "get_fin_angle_from_force(sum * 0.5 * factor, prop_speed)"
   ]
  },
  {
   "cell_type": "code",
   "execution_count": null,
   "id": "06062b84-c539-42d7-974e-b48e9598f947",
   "metadata": {},
   "outputs": [],
   "source": []
  }
 ],
 "metadata": {
  "kernelspec": {
   "display_name": "Python 3 (ipykernel)",
   "language": "python",
   "name": "python3"
  },
  "language_info": {
   "codemirror_mode": {
    "name": "ipython",
    "version": 3
   },
   "file_extension": ".py",
   "mimetype": "text/x-python",
   "name": "python",
   "nbconvert_exporter": "python",
   "pygments_lexer": "ipython3",
   "version": "3.12.4"
  }
 },
 "nbformat": 4,
 "nbformat_minor": 5
}
