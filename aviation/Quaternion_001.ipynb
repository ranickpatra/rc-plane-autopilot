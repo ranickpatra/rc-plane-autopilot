{
 "cells": [
  {
   "cell_type": "code",
   "execution_count": 1,
   "id": "24144d4f-fbcf-4cb8-9548-969086bdd578",
   "metadata": {},
   "outputs": [],
   "source": [
    "import numpy as np\n",
    "from scipy.spatial.transform import Rotation as R"
   ]
  },
  {
   "cell_type": "code",
   "execution_count": 2,
   "id": "141510fd-d21e-4608-86cb-e55e8d8beddf",
   "metadata": {},
   "outputs": [],
   "source": [
    "# Define a rotation in Euler angles\n",
    "roll = np.deg2rad(30)  # Roll: 30 degrees\n",
    "pitch = np.deg2rad(45)  # Pitch: 45 degrees\n",
    "yaw = np.deg2rad(60)  # Yaw: 60 degrees"
   ]
  },
  {
   "cell_type": "code",
   "execution_count": 8,
   "id": "38919070-60bb-49fa-bddf-283a61c3ad7d",
   "metadata": {},
   "outputs": [
    {
     "data": {
      "text/plain": [
       "array([[ 0.35355339, -0.5732233 ,  0.73919892],\n",
       "       [ 0.61237244,  0.73919892,  0.28033009],\n",
       "       [-0.70710678,  0.35355339,  0.61237244]])"
      ]
     },
     "execution_count": 8,
     "metadata": {},
     "output_type": "execute_result"
    }
   ],
   "source": [
    "# Create a rotation object from the Euler angles\n",
    "r = R.from_euler('xyz', [roll, pitch, yaw])\n",
    "r.as_matrix()"
   ]
  },
  {
   "cell_type": "code",
   "execution_count": 4,
   "id": "4e1046d2-f175-4a2a-b363-2d191647cc20",
   "metadata": {},
   "outputs": [
    {
     "data": {
      "text/plain": [
       "array([0.02226003, 0.43967974, 0.36042341, 0.82236317])"
      ]
     },
     "execution_count": 4,
     "metadata": {},
     "output_type": "execute_result"
    }
   ],
   "source": [
    "# Convert the rotation to a quaternion\n",
    "quaternion = r.as_quat()\n",
    "quaternion"
   ]
  },
  {
   "cell_type": "code",
   "execution_count": 6,
   "id": "271c79a1-5a6d-4391-a6e0-d1da5a4578c9",
   "metadata": {},
   "outputs": [
    {
     "data": {
      "text/plain": [
       "array([30., 45., 60.])"
      ]
     },
     "execution_count": 6,
     "metadata": {},
     "output_type": "execute_result"
    }
   ],
   "source": [
    "# Convert the quaternion back to Euler angles\n",
    "euler_angles = R.from_quat(quaternion).as_euler('xyz')\n",
    "np.rad2deg(euler_angles)"
   ]
  },
  {
   "cell_type": "code",
   "execution_count": null,
   "id": "f1c36592-8009-486d-8a97-7fe4f0e48cb2",
   "metadata": {},
   "outputs": [],
   "source": []
  }
 ],
 "metadata": {
  "kernelspec": {
   "display_name": "Python 3 (ipykernel)",
   "language": "python",
   "name": "python3"
  },
  "language_info": {
   "codemirror_mode": {
    "name": "ipython",
    "version": 3
   },
   "file_extension": ".py",
   "mimetype": "text/x-python",
   "name": "python",
   "nbconvert_exporter": "python",
   "pygments_lexer": "ipython3",
   "version": "3.8.16"
  }
 },
 "nbformat": 4,
 "nbformat_minor": 5
}
